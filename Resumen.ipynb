{
 "cells": [
  {
   "cell_type": "code",
   "execution_count": 1,
   "metadata": {
    "collapsed": true
   },
   "outputs": [],
   "source": [
    "import numpy as np\n",
    "import gpstk\n",
    "from GNSS_TK import *\n",
    "import matplotlib.pyplot as plt\n",
    "%matplotlib inline"
   ]
  },
  {
   "cell_type": "markdown",
   "metadata": {},
   "source": [
    "Funciones"
   ]
  },
  {
   "cell_type": "code",
   "execution_count": null,
   "metadata": {
    "collapsed": true
   },
   "outputs": [],
   "source": [
    "def get_arcs(t,Icode,Iphase,ELEV,IPPS): #returns arcs with observations time, phase & code delay,IPP\n",
    "    Phase=[]\n",
    "    Code=[]\n",
    "    Elevetion=[]\n",
    "    for i in t:\n",
    "        Phase.append(Iphase[i])\n",
    "        Code.append(Icode[i])\n",
    "        Elevetion.append(ELEV[i])\n",
    "        \n",
    "    t=adjust_times(t)\n",
    "    Phase,Code,t,Elevetion=np.array(Phase),np.array(Code),np.array(t),np.array(Elevetion)\n",
    "    \n",
    "    ant=0\n",
    "    limits=[]\n",
    "    for i in range(1,len(t)):\n",
    "        if t[i]-t[i-1]>1800: #si hay mas de 2 horas entre una observacion y la otra es que ya es otro arco\n",
    "            limits.append(i)\n",
    "\n",
    "    arcs=np.split(range(t.size),limits)\n",
    "    obs={} #Key: Number if arc, Values: time of observations and Phase Delays\n",
    "    i=0\n",
    "    for arc in arcs:\n",
    "        obs[i]=[t[arc],Phase[arc],Code[arc],Elevetion[arc]]\n",
    "        i+=1\n",
    "    return obs"
   ]
  },
  {
   "cell_type": "code",
   "execution_count": null,
   "metadata": {
    "collapsed": true
   },
   "outputs": [],
   "source": [
    "def adjust_times(t): #sync station times, returns times in common and difference\n",
    "    np.array(t)\n",
    "    for i in range(len(t)):\n",
    "        if t[i]%30!=0:\n",
    "            t[i]=t[i]+(30-t[i]%30)\n",
    "    return t"
   ]
  },
  {
   "cell_type": "code",
   "execution_count": 2,
   "metadata": {
    "collapsed": true
   },
   "outputs": [],
   "source": [
    "stations=[[[\"data/zob1324.03.n\",\"data/zob13240.03o\"],[\"data/garf324.03.n\",\"data/garf3240.03o\"]],[[\"data/woos324.03.n\",\"data/woos324.03.o\"],[\"data/garf324.03.n\",\"data/garf3240.03o\"]]]"
   ]
  },
  {
   "cell_type": "code",
   "execution_count": 13,
   "metadata": {
    "collapsed": false
   },
   "outputs": [
    {
     "name": "stdout",
     "output_type": "stream",
     "text": [
      "Station 1: ['data/zob1324.03.n', 'data/zob13240.03o']\n",
      "\n",
      "Station 2: ['data/garf324.03.n', 'data/garf3240.03o']\n",
      "\n",
      "Times in common:  108\n",
      "\n",
      "Data Jumps st1:  []\n"
     ]
    },
    {
     "ename": "NameError",
     "evalue": "name 'times1' is not defined",
     "output_type": "error",
     "traceback": [
      "\u001b[1;31m---------------------------------------------------------------------------\u001b[0m",
      "\u001b[1;31mNameError\u001b[0m                                 Traceback (most recent call last)",
      "\u001b[1;32m<ipython-input-13-d4351dd64a20>\u001b[0m in \u001b[0;36m<module>\u001b[1;34m()\u001b[0m\n\u001b[0;32m     38\u001b[0m         \u001b[0mjumps1\u001b[0m\u001b[1;33m=\u001b[0m\u001b[0mdatajump\u001b[0m\u001b[1;33m(\u001b[0m\u001b[0mPhase1\u001b[0m\u001b[1;33m,\u001b[0m\u001b[0mtime1\u001b[0m\u001b[1;33m,\u001b[0m\u001b[1;36m2.5\u001b[0m\u001b[1;33m)\u001b[0m\u001b[1;33m\u001b[0m\u001b[0m\n\u001b[0;32m     39\u001b[0m         \u001b[1;32mprint\u001b[0m \u001b[1;34m\"\\nData Jumps st1: \"\u001b[0m\u001b[1;33m,\u001b[0m\u001b[0mjumps1\u001b[0m\u001b[1;33m\u001b[0m\u001b[0m\n\u001b[1;32m---> 40\u001b[1;33m         \u001b[1;32mprint\u001b[0m \u001b[0mtimes1\u001b[0m\u001b[1;33m[\u001b[0m\u001b[0mjumps1\u001b[0m\u001b[1;33m]\u001b[0m\u001b[1;33m\u001b[0m\u001b[0m\n\u001b[0m\u001b[0;32m     41\u001b[0m \u001b[1;33m\u001b[0m\u001b[0m\n\u001b[0;32m     42\u001b[0m         \u001b[0mjumps2\u001b[0m\u001b[1;33m=\u001b[0m\u001b[0mdatajump\u001b[0m\u001b[1;33m(\u001b[0m\u001b[0mPhase2\u001b[0m\u001b[1;33m,\u001b[0m\u001b[0mtime2\u001b[0m\u001b[1;33m,\u001b[0m\u001b[1;36m2.5\u001b[0m\u001b[1;33m)\u001b[0m\u001b[1;33m\u001b[0m\u001b[0m\n",
      "\u001b[1;31mNameError\u001b[0m: name 'times1' is not defined"
     ]
    }
   ],
   "source": [
    "for pair in stations:\n",
    "    st1=pair[0]\n",
    "    st2=pair[1]\n",
    "    print \"Station 1:\",st1\n",
    "    print \"\\nStation 2:\",st2\n",
    "    t1,t2,Icode1,Iphase1,Icode2,Iphase2,VTECphase1,VTECphase2,ELEV1,ELEV2,IPP1,IPP2=getdata_stationpair(st1,st2,\"GPS 8\")\n",
    "    obs1=get_arcs(t1,Icode1,Iphase1,ELEV1,IPP1) #gets Phase, Code, and adjusted times \n",
    "    obs2=get_arcs(t2,Icode2,Iphase2,ELEV2,IPP2)\n",
    "    \n",
    "    for arc in range(len(obs1)):#to each arc observed in a day\n",
    "        time1=obs1[arc][0] #times on station 1 same arc!\n",
    "        time2=obs2[arc][0] #times on station 2\n",
    "        \n",
    "        Phase1=obs1[arc][1]\n",
    "        Phase2=obs2[arc][1]\n",
    "        \n",
    "       \n",
    "        tboth=np.intersect1d(time1,time2)\n",
    "        print \"\\nTimes in common: \",tboth.size\n",
    "        \n",
    "        #Now we take observations in both stations\n",
    "        t1index=np.array([i for i in range(time1.size) if time1[i] in tboth ])\n",
    "        t2index=np.array([i for i in range(time2.size) if time2[i] in tboth ])\n",
    "        \n",
    "        time1=time1[t1index] #times on station 1 same arc!\n",
    "        time2=time2[t2index]\n",
    "        \n",
    "        Phase1=Phase1[t1index]\n",
    "        Phase2=Phase2[t2index]\n",
    "        \n",
    "        Code1=obs1[arc][2][t1index]\n",
    "        Code2=obs2[arc][2][t2index]\n",
    "        \n",
    "        Elevation1=obs1[arc][3][t1index]\n",
    "        Elevation2=obs2[arc][3][t2index]\n",
    "        \n",
    "        #Detect data jumps\n",
    "        jumps1=datajump(Phase1,time1,2.5)\n",
    "        print \"\\nData Jumps st1: \",jumps1\n",
    "        print times1[jumps1]\n",
    "        \n",
    "        jumps2=datajump(Phase2,time2,2.5)\n",
    "        print \"\\nData Jumps st2: \",jumps2,\"\\n\\n\"\n",
    "        print times1[jumps2]\n",
    "        \n",
    "        #Divide in Sub-arcs using jumps\n",
    "        print \"Divide in Sub-arcs using jumps\"\n",
    "        miniarcs1=sub_arcs(Phase1,jumps1)\n",
    "        miniarcs2=sub_arcs(Phase2,jumps2)\n",
    "        #print \"\\nSubarcs st1: \",miniarcs1\n",
    "        #print \"\\nSubarcs st2: \",miniarcs2\n",
    "        \n",
    "        #Remove short arcs \n",
    "        print \"\\nRemove short arcs\"\n",
    "        if len(jumps1)!=0:\n",
    "            miniarcs1,miniarcs2=remove_short(miniarcs1,miniarcs2)\n",
    "        if len(jumps2)!=0:\n",
    "            miniarcs2,miniarcs1=remove_short(miniarcs2,miniarcs1)\n",
    "        \n",
    "        #Polinomial fit and Outlier Detection\n",
    "        ##On each subarc check for slips and delete.\n",
    "        pslips1=[] #slips in st1 with polinomyal fit\n",
    "        pslips2=[] #slips in st2 with polinomyal fit\n",
    "        oslips1=[] #slips in st1 oulier factor\n",
    "        oslips2=[] #slips in st2 oulier factor\n",
    "        \n",
    "        for i in range(len(miniarcs1)):#In station1\n",
    "            __,pslip=poly_fit(Phase1[miniarcs1[i]],time1[miniarcs1[i]])\n",
    "            pslips1.append(pslip)\n",
    "            __,oslip=outlier_detect(Phase1[miniarcs1[i]],time1[miniarcs1[i]]*3600)\n",
    "            oslips1.append(oslip)\n",
    "        \n",
    "        for i in range(len(miniarcs2)):#In station2\n",
    "            __,pslip=poly_fit(Phase2[miniarcs2[i]],time2[miniarcs2[i]])\n",
    "            pslips2.append(pslip)\n",
    "            __,oslip=outlier_detect(Phase2[miniarcs2[i]],time2[miniarcs2[i]]*3600)\n",
    "            oslips2.append(oslip)\n",
    "        \n",
    "        ##Using polinompyal fit and outlier factor methods we confirm slips\n",
    "        confirmed1=[] #a list of lists with the confirmed outliers on each subarc\n",
    "        confirmed2=[]\n",
    "        \n",
    "        for i in range(len(miniarcs1)):\n",
    "            outliers=confirmed_slip(time1[miniarcs1[i]],Phase1[miniarcs1[i]],threshold=0.8)\n",
    "            confirmed1.append(outliers)\n",
    "            \n",
    "        for i in range(len(miniarcs2)):\n",
    "            outliers=confirmed_slip(time2[miniarcs2[i]],Phase2[miniarcs2[i]],threshold=0.8)\n",
    "            confirmed2.append(outliers) \n",
    "            \n",
    "        #Remove slips from both stations\n",
    "        for i in range(len(confirmed1)):\n",
    "            if len(confirmed1[i])!=0:\n",
    "                miniarcs1[i],miniarcs2=remove_slip(miniarcs1[i],miniarcs2,oslips1[i])\n",
    "        \n",
    "        for i in range(len(confirmed2)):\n",
    "            if len(confirmed2[i])!=0:\n",
    "                miniarcs2[i],miniarcs1=remove_slip(miniarcs1[i],miniarcs1,oslips2[i])\n",
    "        \n",
    "        #Leveling Phase\n",
    "        PhaseArc1=[]\n",
    "        PhaseArc2=[]\n",
    "        C1=[]\n",
    "        C2=[]\n",
    "        for i in range(len(miniarcs1)):\n",
    "            Lfactor,new_IPHASE_arc=levelphase(Code1[miniarcs1[i]],Phase1[miniarcs1[i]],Elevation1[miniarcs1[i]])\n",
    "            PhaseArc1.append(new_IPHASE_arc)   \n",
    "            C1.append(Code1[miniarcs1[i]])\n",
    "        \n",
    "        for i in range(len(miniarcs2)):\n",
    "            Lfactor,new_IPHASE_arc=levelphase(Code2[miniarcs2[i]],Phase2[miniarcs2[i]],Elevation2[miniarcs2[i]])\n",
    "            PhaseArc2.append(new_IPHASE_arc)\n",
    "            C2.append(Code2[miniarcs2[i]])\n",
    "        \n",
    "        new_IPHASE_arc1=np.hstack(PhaseArc1) \n",
    "        new_IPHASE_arc2=np.hstack(PhaseArc2)\n",
    "        C1=np.hstack(C1)\n",
    "        C2=np.hstack(C2)\n",
    "        \n",
    "        ntimes1=np.array([])\n",
    "        ntimes2=np.array([])\n",
    "        \n",
    "        for i in miniarcs1:\n",
    "            ntimes1=np.append(ntimes1,time1[i])\n",
    "        \n",
    "        for i in miniarcs2:\n",
    "            ntimes2=np.append(ntimes2,time2[i])\n",
    "        print \"# Observations st1: \",ntimes1.size,new_IPHASE_arc1.size\n",
    "        print \"# Observations st2: \",ntimes2.size,new_IPHASE_arc2.size\n",
    "        \n",
    "        plt.figure(figsize=(12,6))\n",
    "        \n",
    "        plt.subplot(2,3,1)\n",
    "        title=\"For arc #\"+str(arc)+\"Station 1 Phase\"\n",
    "        plt.title(title)\n",
    "        plt.scatter(ntimes1/3600,new_IPHASE_arc1,color=\"blue\")\n",
    "        \n",
    "        plt.subplot(2,3,2)\n",
    "        title=\"For arc #\"+str(arc)+\"Station 2 Phase\"\n",
    "        plt.title(title)\n",
    "        plt.scatter(ntimes2/3600,new_IPHASE_arc2,color=\"blue\")\n",
    "        \n",
    "        plt.subplot(2,3,3)\n",
    "        title=\"Gradient Phase\"\n",
    "        plt.title(title)\n",
    "        plt.scatter(ntimes2/3600,new_IPHASE_arc2-new_IPHASE_arc1,color=\"red\")\n",
    "        \n",
    "        plt.subplot(2,3,4)\n",
    "        title=\"For arc #\"+str(arc)+\"Station 1 Code\"\n",
    "        plt.title(title)\n",
    "        plt.scatter(ntimes1/3600,C1,color=\"green\")\n",
    "        \n",
    "        plt.subplot(2,3,5)\n",
    "        title=\"For arc #\"+str(arc)+\"Station 2 Code\"\n",
    "        plt.title(title)\n",
    "        plt.scatter(ntimes2/3600,C2,color=\"green\")\n",
    " \n",
    "        plt.subplot(2,3,6)\n",
    "        title=\"Gradient Code\"\n",
    "        plt.title(title)\n",
    "        plt.scatter(ntimes2/3600,C2-C1,color=\"red\")\n",
    "        \n",
    "    \n",
    "\n",
    "    "
   ]
  },
  {
   "cell_type": "code",
   "execution_count": null,
   "metadata": {
    "collapsed": true
   },
   "outputs": [],
   "source": []
  },
  {
   "cell_type": "code",
   "execution_count": null,
   "metadata": {
    "collapsed": true
   },
   "outputs": [],
   "source": []
  }
 ],
 "metadata": {
  "kernelspec": {
   "display_name": "Python 2",
   "language": "python",
   "name": "python2"
  },
  "language_info": {
   "codemirror_mode": {
    "name": "ipython",
    "version": 2
   },
   "file_extension": ".py",
   "mimetype": "text/x-python",
   "name": "python",
   "nbconvert_exporter": "python",
   "pygments_lexer": "ipython2",
   "version": "2.7.10"
  }
 },
 "nbformat": 4,
 "nbformat_minor": 0
}

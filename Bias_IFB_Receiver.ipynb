{
 "cells": [
  {
   "cell_type": "code",
   "execution_count": 4,
   "metadata": {
    "collapsed": true
   },
   "outputs": [],
   "source": [
    "import numpy as np\n",
    "import gpstk\n",
    "from Toolkit import *\n",
    "import matplotlib.pyplot as plt\n",
    "%matplotlib inline"
   ]
  },
  {
   "cell_type": "markdown",
   "metadata": {},
   "source": [
    "#Receiver IFB "
   ]
  },
  {
   "cell_type": "markdown",
   "metadata": {},
   "source": [
    "Podemos Despejar el IFB de receptor con la ecuación\n",
    "\n",
    "$$vTEC=(TEC_{sl}-b_{s}-b_{r})Cos(\\chi)$$\n",
    "**Conocemos:**<br><br>\n",
    "$TEC_{sl}$: Tec slant<br>\n",
    "$\\chi$: Zenith, $b_{s}$: Bias Satellite, incluido en rinex y/o ionex<br> \n",
    "<br><br>**Incognita:**<br><br>\n",
    "$b_{r}$: Bias receptor"
   ]
  },
  {
   "cell_type": "markdown",
   "metadata": {},
   "source": [
    "<img src=\"Receptor_IFB_Bias.png\">"
   ]
  },
  {
   "cell_type": "markdown",
   "metadata": {},
   "source": [
    "$\\sigma_{t,u}$ es la sumatoria de todas las desviaciones en el día con un bías aleatorio. <br>\n",
    "$\\sigma_{u}(n)$ es la desviación de $VTEC$ en un instante $n$ <br>\n",
    "$VTEC$ Vertical Total Electron Content medido por un solo satélite en tiempo $n$\n"
   ]
  },
  {
   "cell_type": "code",
   "execution_count": 5,
   "metadata": {
    "collapsed": true
   },
   "outputs": [],
   "source": [
    "receiver=[\"/mnt/zob1324.03.n\",\"/mnt/zob1324.03.o\"]"
   ]
  },
  {
   "cell_type": "code",
   "execution_count": 6,
   "metadata": {
    "collapsed": false
   },
   "outputs": [],
   "source": [
    "def getIFB_Rec(ofile,nfile): #en cada epoca satelites que ve, L1,L2,P1,P2,Elevacion de cada satelite,IFB satelites (del rinex toca)\n",
    "    f1,f2=gpstk.L1_FREQ_GPS,gpstk.L2_FREQ_GPS\n",
    "    info_Rec={}\n",
    "    \n",
    "    oheader,odata=gpstk.readRinex3Obs(ofile,strict=True) \n",
    "    nheader,ndata=gpstk.readRinex3Nav(nfile)\n",
    "    \n",
    "    bcestore = gpstk.GPSEphemerisStore() \n",
    "    \n",
    "    for ndato in ndata:\n",
    "        ephem = ndato.toGPSEphemeris()\n",
    "        bcestore.addEphemeris(ephem)\n",
    "    bcestore.SearchNear()\n",
    "    \n",
    "    for observation in odata:\n",
    "        sats=[satID for satID, datumList in observation.obs.iteritems() if str(satID).split()[0]==\"GPS\" ] \n",
    "        obs_types = np.array([i for i in oheader.R2ObsTypes])\n",
    "        if 'C1' and 'P2' and 'L1' and 'L2' in obs_types:\n",
    "            time=observation.time\n",
    "            for sat in sats:\n",
    "                eph = bcestore.findEphemeris(sat, time) \n",
    "                Tgd=eph.Tgd #esta en metros!\n",
    "                sat_pos = eph.svXvt(time)\n",
    "                rec_pos = gpstk.Position(oheader.antennaPosition[0], oheader.antennaPosition[1], oheader.antennaPosition[2]).asECEF()\n",
    "                elev = oheader.antennaPosition.elvAngle(sat_pos.x)\n",
    "                azim = oheader.antennaPosition.azAngle(sat_pos.x)\n",
    "                IPP=rec_pos.getIonosphericPiercePoint(elev, azim, 350000).asECEF()\n",
    "                t=np.trunc(gpstk.YDSTime(time).sod)\n",
    "                \n",
    "                if np.size(np.where(obs_types=='C1'))>0 and np.size(np.where(obs_types=='P2'))>0 and np.size(np.where(obs_types=='L1'))>0 and np.size(np.where(obs_types=='L2'))>0: \n",
    "                        \n",
    "                    C1_idx = np.where(obs_types=='C1')[0][0] \n",
    "                    P2_idx = np.where(obs_types=='P2')[0][0]\n",
    "                    P1=observation.getObs(sat, C1_idx).data \n",
    "                    P2=observation.getObs(sat, P2_idx).data\n",
    "\n",
    "                    L1_idx = np.where(obs_types=='L1')[0][0]\n",
    "                    L2_idx = np.where(obs_types=='L2')[0][0]\n",
    "                    L1=observation.getObs(sat, L1_idx).data*f1\n",
    "                    L2=observation.getObs(sat, L2_idx).data*f2\n",
    "                    #if P1<5e7 and P2<5e7 and L1<5e7 and L2<5e7: #Distances should be in order of 1e7 meters\n",
    "                    if t not in info_Rec:\n",
    "                        info_Rec[t]=[[sat],[L1],[L2],[P1],[P2],[Tgd],[elev]] #agrega nuevo tiempo\n",
    "                    else:\n",
    "                        info_Rec[t][0].append(sat) #agrega a uno existente\n",
    "                        info_Rec[t][1].append(L1)\n",
    "                        info_Rec[t][2].append(L2)\n",
    "                        info_Rec[t][3].append(P1)\n",
    "                        info_Rec[t][4].append(P2)\n",
    "                        info_Rec[t][5].append(Tgd)\n",
    "                        info_Rec[t][6].append(elev)\n",
    "\n",
    "        else:\n",
    "            print \"Needs both L1 and L2 frequencies to compute delay\"\n",
    "    factor_alfa=f2**2/(f1**2-f2**2)\n",
    "    alfa=1.0/((f1**2/f2**2)-1)\n",
    "    c=3e8\n",
    "    h=400e3 #the height of the ionospheric layer, which is assumed to be 400 km in this paper\n",
    "    Re=6371e3 #Earth Radius\n",
    "    k=80.62 #(m3/s2). Related to the ionosphere refraction\n",
    "    \n",
    "    bias=np.arange(-30,30,0.001)\n",
    "    bias*=10e-9\n",
    "    vec_sum_desv=[] #vector with all sumdesv for every bias\n",
    "    for bi in bias: #Cada candid\n",
    "        sumdesv=0 #sum of all standar desv  of that they with bias \"bi\"\n",
    "        for t in info_Rec:\n",
    "            Mt=len(info_Rec[t][0]) #number of satellites observed at time t\n",
    "            TEC=[]\n",
    "            for m in range(Mt):\n",
    "                L1,L2=info_Rec[t][1][m],info_Rec[t][2][m]\n",
    "                P1,P2=info_Rec[t][3][m],info_Rec[t][4][m]\n",
    "                tgd,elev=info_Rec[t][5][m]/3e8,info_Rec[t][6][m]\n",
    "                #**********TEC Slanth Path ********************\n",
    "                #Computed with carrier-phase\n",
    "                TECsll=2*(f1*f2)**2*(L1-L2)/(k*(f1**2-f2**2))\n",
    "                #Computed with Code pseudorange\n",
    "                TECslp=2*(f1*f2)**2*(P1-P2)/(k*(f1**2-f2**2)) \n",
    "                #\"Baseline\" observations with elevation angle < 10 degrees may be affected by multipath \n",
    "                Brs=((TECslp-TECsll)*np.sin(elev)**2)/np.sin(elev)**2\n",
    "                TECsl=TECsll+Brs\n",
    "                #*********************************************\n",
    "                zenith=np.arcsin((Re*np.cos(elev)/(Re+h)))\n",
    "                vTEC=(TECsl-tgd-bias)*np.cos(zenith)\n",
    "                TEC.append(vTEC)\n",
    "            desv_u=np.std(TEC) #sigma_u en tiempo n=t\n",
    "            sumdesv+=desv_u\n",
    "        vec_sum_desv.append(sumdesv)\n",
    "    best_bias=bias[np.argmin(vec_sum_desv)]\n",
    "    return best_bias\n",
    "        \n",
    "            \n"
   ]
  },
  {
   "cell_type": "code",
   "execution_count": 7,
   "metadata": {
    "collapsed": false
   },
   "outputs": [
    {
     "ename": "KeyboardInterrupt",
     "evalue": "",
     "output_type": "error",
     "traceback": [
      "\u001b[1;31m---------------------------------------------------------------------------\u001b[0m",
      "\u001b[1;31mKeyboardInterrupt\u001b[0m                         Traceback (most recent call last)",
      "\u001b[1;32m<ipython-input-7-78b7e914f206>\u001b[0m in \u001b[0;36m<module>\u001b[1;34m()\u001b[0m\n\u001b[1;32m----> 1\u001b[1;33m \u001b[0mbias_rec\u001b[0m\u001b[1;33m=\u001b[0m\u001b[0mgetIFB_Rec\u001b[0m\u001b[1;33m(\u001b[0m\u001b[1;34m\"/mnt/zob1324.03.o\"\u001b[0m\u001b[1;33m,\u001b[0m\u001b[1;34m\"/mnt/zob1324.03.n\"\u001b[0m\u001b[1;33m)\u001b[0m\u001b[1;33m\u001b[0m\u001b[0m\n\u001b[0m",
      "\u001b[1;32m<ipython-input-6-6e2c9232b20c>\u001b[0m in \u001b[0;36mgetIFB_Rec\u001b[1;34m(ofile, nfile)\u001b[0m\n\u001b[0;32m     81\u001b[0m                 \u001b[0mTECsl\u001b[0m\u001b[1;33m=\u001b[0m\u001b[0mTECsll\u001b[0m\u001b[1;33m+\u001b[0m\u001b[0mBrs\u001b[0m\u001b[1;33m\u001b[0m\u001b[0m\n\u001b[0;32m     82\u001b[0m                 \u001b[0mzenith\u001b[0m\u001b[1;33m=\u001b[0m\u001b[0mnp\u001b[0m\u001b[1;33m.\u001b[0m\u001b[0marcsin\u001b[0m\u001b[1;33m(\u001b[0m\u001b[1;33m(\u001b[0m\u001b[0mRe\u001b[0m\u001b[1;33m*\u001b[0m\u001b[0mnp\u001b[0m\u001b[1;33m.\u001b[0m\u001b[0mcos\u001b[0m\u001b[1;33m(\u001b[0m\u001b[0melev\u001b[0m\u001b[1;33m)\u001b[0m\u001b[1;33m/\u001b[0m\u001b[1;33m(\u001b[0m\u001b[0mRe\u001b[0m\u001b[1;33m+\u001b[0m\u001b[0mh\u001b[0m\u001b[1;33m)\u001b[0m\u001b[1;33m)\u001b[0m\u001b[1;33m)\u001b[0m\u001b[1;33m\u001b[0m\u001b[0m\n\u001b[1;32m---> 83\u001b[1;33m                 \u001b[0mvTEC\u001b[0m\u001b[1;33m=\u001b[0m\u001b[1;33m(\u001b[0m\u001b[0mTECsl\u001b[0m\u001b[1;33m-\u001b[0m\u001b[0mtgd\u001b[0m\u001b[1;33m-\u001b[0m\u001b[0mbias\u001b[0m\u001b[1;33m)\u001b[0m\u001b[1;33m*\u001b[0m\u001b[0mnp\u001b[0m\u001b[1;33m.\u001b[0m\u001b[0mcos\u001b[0m\u001b[1;33m(\u001b[0m\u001b[0mzenith\u001b[0m\u001b[1;33m)\u001b[0m\u001b[1;33m\u001b[0m\u001b[0m\n\u001b[0m\u001b[0;32m     84\u001b[0m                 \u001b[0mTEC\u001b[0m\u001b[1;33m.\u001b[0m\u001b[0mappend\u001b[0m\u001b[1;33m(\u001b[0m\u001b[0mvTEC\u001b[0m\u001b[1;33m)\u001b[0m\u001b[1;33m\u001b[0m\u001b[0m\n\u001b[0;32m     85\u001b[0m             \u001b[0mdesv_u\u001b[0m\u001b[1;33m=\u001b[0m\u001b[0mnp\u001b[0m\u001b[1;33m.\u001b[0m\u001b[0mstd\u001b[0m\u001b[1;33m(\u001b[0m\u001b[0mTEC\u001b[0m\u001b[1;33m)\u001b[0m \u001b[1;31m#sigma_u en tiempo n=t\u001b[0m\u001b[1;33m\u001b[0m\u001b[0m\n",
      "\u001b[1;31mKeyboardInterrupt\u001b[0m: "
     ]
    }
   ],
   "source": [
    "bias_rec=getIFB_Rec(\"/mnt/zob1324.03.o\",\"/mnt/zob1324.03.n\")"
   ]
  }
 ],
 "metadata": {
  "kernelspec": {
   "display_name": "Python 2",
   "language": "python",
   "name": "python2"
  },
  "language_info": {
   "codemirror_mode": {
    "name": "ipython",
    "version": 2
   },
   "file_extension": ".py",
   "mimetype": "text/x-python",
   "name": "python",
   "nbconvert_exporter": "python",
   "pygments_lexer": "ipython2",
   "version": "2.7.10"
  }
 },
 "nbformat": 4,
 "nbformat_minor": 0
}

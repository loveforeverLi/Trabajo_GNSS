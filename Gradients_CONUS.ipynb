{
 "cells": [
  {
   "cell_type": "code",
   "execution_count": 1,
   "metadata": {
    "collapsed": true
   },
   "outputs": [],
   "source": [
    "import numpy as np\n",
    "import gpstk\n",
    "from Toolkit_GNSS import *\n",
    "import matplotlib.pyplot as plt\n",
    "%matplotlib inline"
   ]
  },
  {
   "cell_type": "markdown",
   "metadata": {},
   "source": [
    "##Stations"
   ]
  },
  {
   "cell_type": "code",
   "execution_count": 2,
   "metadata": {
    "collapsed": true
   },
   "outputs": [],
   "source": [
    "#Station 1 Rinex Files, Station 2 Rinex Files, PRN Satellite\n",
    "station=[[\"/mnt/zob1324.03.n\",\"/mnt/zob1324.03.o\"],[\"/mnt/garf324.03.n\",\"/mnt/garf324.03.o\"],\"GPS 8\"]\n"
   ]
  },
  {
   "cell_type": "markdown",
   "metadata": {},
   "source": [
    "# Step 1) Get observations Data (Carrier Phase, Code, Times, etc.)"
   ]
  },
  {
   "cell_type": "code",
   "execution_count": 3,
   "metadata": {
    "collapsed": false
   },
   "outputs": [],
   "source": [
    "st1,st2,satellite=station[0],station[1],station[2]\n",
    "t1,t2,Icode1,Iphase1,Icode2,Iphase2,VTECphase1,VTECphase2,ELEV1,ELEV2,IPP1,IPP2,L11,L12,L21,L22,C11,C12,C21,C22,Tgd =getdata_stationpair(st1,st2,satellite)"
   ]
  },
  {
   "cell_type": "code",
   "execution_count": 4,
   "metadata": {
    "collapsed": false
   },
   "outputs": [
    {
     "name": "stdout",
     "output_type": "stream",
     "text": [
      "<type 'list'> <type 'dict'> <type 'dict'>\n"
     ]
    }
   ],
   "source": [
    "print type(t1),type(Icode1),type(Iphase1)"
   ]
  },
  {
   "cell_type": "markdown",
   "metadata": {},
   "source": [
    "#Step 2) Separate into arcs\n",
    "\n",
    "Observations separated for more than an hour it's sonsidered a new arc. So the information is divided: **carrier phase, code, elevation and IPP's. **"
   ]
  },
  {
   "cell_type": "code",
   "execution_count": 5,
   "metadata": {
    "collapsed": true
   },
   "outputs": [],
   "source": [
    "def get_arcs(t,Icode,Iphase,ELEV,IPPS,L1,L2,C1,C2): \n",
    "    #Returns arcs with observations time, phase & code delay,IPP\n",
    "    #For every station returns a dictionary\n",
    "    ##key: Number of arc observed in that day (starting with 0).\n",
    "    ##values: Phase, Code, etc in that arc\n",
    "    Phase,Code,Elevation=[],[],[]\n",
    "    PhaseL1,PhaseL2=[],[]\n",
    "    CodeL1,CodeL2,IPP=[],[],[]\n",
    "    notfound=0 \n",
    "    a=[]\n",
    "    \n",
    "    for i in t:\n",
    "        if i in Iphase.keys(): #all times in t should correspond to the keys in the dictionaries.\n",
    "            Phase.append(Iphase[i])\n",
    "            Code.append(Icode[i])\n",
    "            Elevation.append(ELEV[i])\n",
    "            PhaseL1.append(L1[i])\n",
    "            PhaseL2.append(L2[i])\n",
    "            CodeL1.append(C1[i])\n",
    "            CodeL2.append(C2[i])\n",
    "            IPP.append(IPPS[i])\n",
    "        else:\n",
    "            #print \"Tiempo no encontrado: \",i\n",
    "            notfound+=1\n",
    "            \n",
    "    if notfound>0:\n",
    "        print \"Tiempos no encontrados :\",notfound\n",
    "    \n",
    "    t=adjust_times(t)\n",
    "    \n",
    "    Phase,Code,t,Elevation,PhaseL1,PhaseL2,CodeL1,CodeL2=np.array(Phase),np.array(Code),np.array(t),np.array(Elevation),np.array(PhaseL1),np.array(PhaseL2),np.array(CodeL1),np.array(CodeL2)\n",
    "    \n",
    "    limits=[]\n",
    "    for i in range(1,len(t)):\n",
    "        if t[i]-t[i-1]>3600: \n",
    "            limits.append(i)\n",
    "\n",
    "    arcs=np.split(range(t.size),limits)\n",
    "    obs={} #Key: Number arc, Values: array time of observations , arrayPhase Delays, array code etc.\n",
    "    i=0\n",
    "    for arc in arcs:\n",
    "        obs[i]=[t[arc],Phase[arc],Code[arc],Elevation[arc],PhaseL1[arc],PhaseL2[arc],CodeL1[arc],CodeL2[arc]]\n",
    "        i+=1\n",
    "    return obs"
   ]
  },
  {
   "cell_type": "code",
   "execution_count": 6,
   "metadata": {
    "collapsed": false
   },
   "outputs": [
    {
     "data": {
      "text/plain": [
       "(2, 2)"
      ]
     },
     "execution_count": 6,
     "metadata": {},
     "output_type": "execute_result"
    }
   ],
   "source": [
    "arcs_St1=get_arcs(t1,Icode1,Iphase1,ELEV1,IPP1,L11,L12,C11,C12) #gets arcs with Phase, Code, and adjusted times observations\n",
    "arcs_St2=get_arcs(t2,Icode2,Iphase2,ELEV2,IPP2,L21,L22,C21,C22)\n",
    "len(arcs_St1),len(arcs_St2)"
   ]
  },
  {
   "cell_type": "code",
   "execution_count": 7,
   "metadata": {
    "collapsed": false
   },
   "outputs": [
    {
     "data": {
      "text/plain": [
       "<matplotlib.collections.PathCollection at 0x7ffa08ab3490>"
      ]
     },
     "execution_count": 7,
     "metadata": {},
     "output_type": "execute_result"
    },
    {
     "data": {
      "image/png": "[encoded data removed]",
      "text/plain": [
       "<matplotlib.figure.Figure at 0x7ffa08c87290>"
      ]
     },
     "metadata": {},
     "output_type": "display_data"
    }
   ],
   "source": [
    "plt.figure(figsize=(10,4))\n",
    "plt.subplot(1,2,1)\n",
    "plt.title(\"Code Measure: Noisy- Unambiguous\")\n",
    "plt.scatter(arcs_St1[0][0]/3600,arcs_St1[0][1],color=\"c\")\n",
    "plt.subplot(1,2,2)\n",
    "plt.title(\"Phase Measure: Precise - Ambiguous\")\n",
    "plt.scatter(arcs_St1[0][0]/3600,arcs_St1[0][2],color=\"g\")"
   ]
  },
  {
   "cell_type": "markdown",
   "metadata": {},
   "source": [
    "#Step 3) Cycle slip detection for 1 arc\n",
    "On days with strong ionospheric activity the threshold is more flexible (bigger) 2.5 meters, that way we avoid confusing gradients with cycle slips"
   ]
  },
  {
   "cell_type": "code",
   "execution_count": 9,
   "metadata": {
    "collapsed": false
   },
   "outputs": [
    {
     "name": "stdout",
     "output_type": "stream",
     "text": [
      "\n",
      "*************Arc #2*************\n",
      "\n",
      "# Times in common:  632\n",
      "IndexT1 type <type 'numpy.ndarray'>\n",
      "(632,)\n"
     ]
    }
   ],
   "source": [
    "arc=1 #second \n",
    "if arc in arcs_St1 and arc in arcs_St2:\n",
    "    print \"\\n*************Arc #\"+str(arc+1)+\"*************\"\n",
    "    time1=arcs_St1[arc][0] \n",
    "    time2=arcs_St2[arc][0] \n",
    "\n",
    "    tboth=np.intersect1d(time1,time2)\n",
    "    print \"\\n# Times in common: \",tboth.size\n",
    "    \n",
    "    #Now we take observations in both stations\n",
    "    t1index=np.array([i for i in range(time1.size) if time1[i] in tboth ])\n",
    "    t2index=np.array([i for i in range(time2.size) if time2[i] in tboth ])\n",
    "    print \"IndexT1 type\",type(t1index)\n",
    "    print t1index.shape\n",
    "\n",
    "    time1,time2=time1[t1index],time2[t2index]\n",
    "    Phase1,Phase2=arcs_St1[arc][1][t1index],arcs_St2[arc][1][t2index]\n",
    "    Code1,Code2=arcs_St1[arc][2][t1index],arcs_St2[arc][2][t2index]\n",
    "    Elevation1,Elevation2=arcs_St1[arc][3][t1index],arcs_St2[arc][3][t2index]\n",
    "\n",
    "    #Phase on frequency L1,L2 station1\n",
    "    Phase1L1,Phase1L2=arcs_St1[arc][4][t1index],arcs_St1[arc][5][t1index]\n",
    "    Code1L1,Code1L2=arcs_St1[arc][6][t1index],arcs_St1[arc][7][t1index]\n",
    "\n",
    "    #Phase and Code on frequency L1,L2 station 2\n",
    "    Phase2L1,Phase2L2=arcs_St2[arc][4][t2index],arcs_St2[arc][5][t2index]\n",
    "    Code2L1,Code2L2=arcs_St2[arc][6][t2index],arcs_St2[arc][7][t2index]\n",
    "   \n",
    "    #Ionospheric pearce points\n",
    "    DIPP1=getIPPS(IPP1,tboth)\n",
    "    DIPP2=getIPPS(IPP2,tboth)\n",
    "    \n",
    "    D=[]\n",
    "    for i in tboth:\n",
    "        d=np.sqrt((DIPP1[i][0]-DIPP2[i][0])**2+(DIPP1[i][1]-DIPP2[i][1])**2+(DIPP1[i][2]-DIPP2[i][2])**2)\n",
    "        D.append(d)\n",
    "\n",
    "    D=np.array(D)\n",
    "  "
   ]
  },
  {
   "cell_type": "code",
   "execution_count": 10,
   "metadata": {
    "collapsed": true
   },
   "outputs": [],
   "source": [
    "def datajump(lI,threshold=0.5): #Input: lI=L1-L2, times. Detects jumps in data depending on a threshold\n",
    "    jumps=[]\n",
    "    jumps=np.where(np.abs(np.diff(np.hstack(([0],lI))))>threshold) \n",
    "    return jumps[0] \n",
    "    "
   ]
  },
  {
   "cell_type": "code",
   "execution_count": 11,
   "metadata": {
    "collapsed": true
   },
   "outputs": [],
   "source": [
    "jumps1=datajump(Phase1,2.5)\n",
    "jumps2=datajump(Phase2,2.5)\n"
   ]
  },
  {
   "cell_type": "code",
   "execution_count": 12,
   "metadata": {
    "collapsed": false
   },
   "outputs": [
    {
     "data": {
      "text/plain": [
       "array([  0, 148, 168, 169, 177, 179, 375, 376, 377, 378])"
      ]
     },
     "execution_count": 12,
     "metadata": {},
     "output_type": "execute_result"
    }
   ],
   "source": [
    "jumps1"
   ]
  },
  {
   "cell_type": "code",
   "execution_count": 21,
   "metadata": {
    "collapsed": false
   },
   "outputs": [],
   "source": [
    "def plot_slip(jumps,phase,time,jumpsMP=None):\n",
    "    timejumps=time[jumps]\n",
    "    phasejumps=phase[jumps]\n",
    "    plt.figure()\n",
    "    plt.scatter(time,phase,color=\"yellow\" ,label=\"Normal points\") #points\n",
    "    plt.scatter(timejumps,phasejumps,color=\"#ff3300\",label=\"Jumps\")\n",
    "    if jumpsMP!=None and len(jumpsMP)>0:\n",
    "        timeMP=time[jumpsMP]\n",
    "        phaseMP=phase[jumpsMP]\n",
    "        plt.scatter(timeMP,phaseMP,color=\"red\",label=\"Multipass Jumps\") #points of MP cycle slip\n",
    "    plt.legend()\n",
    "    plt.xlabel(\"Time [second of the day]\")\n",
    "    plt.ylabel(\"Phase delay in one station [meters]\")\n",
    "    plt.ylim(-300,100) #there is a huge cycle slip in this specific arc, this makes apreciate detail jumps"
   ]
  },
  {
   "cell_type": "code",
   "execution_count": 22,
   "metadata": {
    "collapsed": false,
    "scrolled": true
   },
   "outputs": [
    {
     "data": {
      "image/png": "[encoded data removed]",
      "text/plain": [
       "<matplotlib.figure.Figure at 0x7ffa08a6d090>"
      ]
     },
     "metadata": {},
     "output_type": "display_data"
    }
   ],
   "source": [
    "plot_slip(jumps1,Phase1,time1,jumpsMP=None)"
   ]
  },
  {
   "cell_type": "markdown",
   "metadata": {},
   "source": [
    "##Step 3.1) In adition multipass slips can be detected"
   ]
  },
  {
   "cell_type": "code",
   "execution_count": 23,
   "metadata": {
    "collapsed": true
   },
   "outputs": [],
   "source": [
    "   \n",
    "def MP_Slips(jumps1,jumps2,Code1L1,Code1L2,Phase1L1,Phase1L2,Code2L1,Code2L2,Phase2L1,Phase2L2):\n",
    "    gamma=gpstk.GAMMA_GPS\n",
    "    \n",
    "    #MP1 & MP2 In station 1 if MP slips are not in jumps, they are added\n",
    "    MP11=Code1L1-(1+(2/(gamma-1)))*Phase1L1 + (2/(gamma-1))*Phase1L2\n",
    "    MP12=Code1L2-((2*gamma*Phase1L1)/(gamma-1))+(((2*gamma)/(gamma-1))-1)*Phase1L2\n",
    "    jumpsMP11=datajump(MP11,threshold=10)\n",
    "    jumpsMP12=datajump(MP12,threshold=10)\n",
    "\n",
    "    #Add multipass slips to cycle slips\n",
    "    Mp1,Mp2=np.array([]),np.array([]) #this is just for plotting\n",
    "    for i in jumpsMP11:\n",
    "        if i not in jumps1:\n",
    "            jumps1=np.append(jumps1,i)\n",
    "            jumps1=np.sort(jumps1)\n",
    "            Mp1=np.append(Mp1,int(i))\n",
    "\n",
    "    for i in jumpsMP12:\n",
    "        if i not in jumps1:\n",
    "            jumps1=np.append(jumps1,i)\n",
    "            jumps1=np.sort(jumps1)\n",
    "            Mp1=np.append(Mp1,int(i))\n",
    "\n",
    "    #MP1 & MP2 In station 2\n",
    "    MP21=Code2L1-(1+(2/(gamma-1)))*Phase2L1 + (2/(gamma-1))*Phase2L2\n",
    "    MP22=Code2L2-((2*gamma*Phase2L1)/(gamma-1))+(((2*gamma)/(gamma-1))-1)*Phase2L2\n",
    "    jumpsMP21=datajump(MP21,threshold=10)\n",
    "    jumpsMP22=datajump(MP22,threshold=10)\n",
    "\n",
    "\n",
    "    for i in jumpsMP21:\n",
    "        if i not in jumps2:\n",
    "            jumps2=np.append(jumps2,i)\n",
    "            jumps2=np.sort(jumps2)\n",
    "            Mp2=np.append(Mp2,int(i))\n",
    "\n",
    "    for i in jumpsMP22:\n",
    "        if i not in jumps2:\n",
    "            jumps2=np.append(jumps2,i)\n",
    "            jumps2=np.sort(jumps2)\n",
    "            Mp2=np.append(Mp2,int(i))\n",
    "    \n",
    "    return jumps1,jumps2,Mp1,Mp2\n",
    "\n"
   ]
  },
  {
   "cell_type": "code",
   "execution_count": 24,
   "metadata": {
    "collapsed": true
   },
   "outputs": [],
   "source": [
    "jumps1wMP,jumps2wMP,Mp1,Mp2=MP_Slips(jumps1,jumps2,Code1L1,Code1L2,Phase1L1,Phase1L2,Code2L1,Code2L2,Phase2L1,Phase2L2)"
   ]
  },
  {
   "cell_type": "code",
   "execution_count": 25,
   "metadata": {
    "collapsed": false
   },
   "outputs": [
    {
     "data": {
      "text/plain": [
       "array([   3.,    4.,    5.,    6.,    8.,   10.,   20.,   21.,   22.,\n",
       "         23.,   25.,   43.,   44.,  180.,  622.,  623.,  624.,  625.])"
      ]
     },
     "execution_count": 25,
     "metadata": {},
     "output_type": "execute_result"
    }
   ],
   "source": [
    "Mp1"
   ]
  },
  {
   "cell_type": "code",
   "execution_count": 18,
   "metadata": {
    "collapsed": false
   },
   "outputs": [
    {
     "data": {
      "text/plain": [
       "array([  0,   3,   4,   5,   6,   8,  10,  20,  21,  22,  23,  25,  43,\n",
       "        44, 148, 168, 169, 177, 179, 180, 375, 376, 377, 378, 622, 623,\n",
       "       624, 625])"
      ]
     },
     "execution_count": 18,
     "metadata": {},
     "output_type": "execute_result"
    }
   ],
   "source": [
    "jumps1wMP"
   ]
  },
  {
   "cell_type": "code",
   "execution_count": 19,
   "metadata": {
    "collapsed": false,
    "scrolled": true
   },
   "outputs": [
    {
     "name": "stderr",
     "output_type": "stream",
     "text": [
      "/opt/anaconda/lib/python2.7/site-packages/IPython/kernel/__main__.py:7: FutureWarning: comparison to `None` will result in an elementwise object comparison in the future.\n"
     ]
    },
    {
     "ename": "IndexError",
     "evalue": "arrays used as indices must be of integer (or boolean) type",
     "output_type": "error",
     "traceback": [
      "\u001b[1;31m---------------------------------------------------------------------------\u001b[0m",
      "\u001b[1;31mIndexError\u001b[0m                                Traceback (most recent call last)",
      "\u001b[1;32m<ipython-input-19-ef6a01081ada>\u001b[0m in \u001b[0;36m<module>\u001b[1;34m()\u001b[0m\n\u001b[1;32m----> 1\u001b[1;33m \u001b[0mplot_slip\u001b[0m\u001b[1;33m(\u001b[0m\u001b[0mjumps1\u001b[0m\u001b[1;33m,\u001b[0m\u001b[0mPhase1\u001b[0m\u001b[1;33m,\u001b[0m\u001b[0mtime1\u001b[0m\u001b[1;33m,\u001b[0m\u001b[0mjumpsMP\u001b[0m\u001b[1;33m=\u001b[0m\u001b[0mMp1\u001b[0m\u001b[1;33m)\u001b[0m\u001b[1;33m\u001b[0m\u001b[0m\n\u001b[0m",
      "\u001b[1;32m<ipython-input-13-365c520fbac0>\u001b[0m in \u001b[0;36mplot_slip\u001b[1;34m(jumps, phase, time, jumpsMP)\u001b[0m\n\u001b[0;32m      6\u001b[0m     \u001b[0mplt\u001b[0m\u001b[1;33m.\u001b[0m\u001b[0mscatter\u001b[0m\u001b[1;33m(\u001b[0m\u001b[0mtimejumps\u001b[0m\u001b[1;33m,\u001b[0m\u001b[0mphasejumps\u001b[0m\u001b[1;33m,\u001b[0m\u001b[0mcolor\u001b[0m\u001b[1;33m=\u001b[0m\u001b[1;34m\"#ff3300\"\u001b[0m\u001b[1;33m)\u001b[0m\u001b[1;33m\u001b[0m\u001b[0m\n\u001b[0;32m      7\u001b[0m     \u001b[1;32mif\u001b[0m \u001b[0mjumpsMP\u001b[0m\u001b[1;33m!=\u001b[0m\u001b[0mNone\u001b[0m \u001b[1;32mand\u001b[0m \u001b[0mlen\u001b[0m\u001b[1;33m(\u001b[0m\u001b[0mjumpsMP\u001b[0m\u001b[1;33m)\u001b[0m\u001b[1;33m>\u001b[0m\u001b[1;36m0\u001b[0m\u001b[1;33m:\u001b[0m\u001b[1;33m\u001b[0m\u001b[0m\n\u001b[1;32m----> 8\u001b[1;33m         \u001b[0mtimejumpsMP\u001b[0m\u001b[1;33m=\u001b[0m\u001b[0mtime\u001b[0m\u001b[1;33m[\u001b[0m\u001b[0mjumpsMP\u001b[0m\u001b[1;33m]\u001b[0m\u001b[1;33m\u001b[0m\u001b[0m\n\u001b[0m\u001b[0;32m      9\u001b[0m         \u001b[0mphasejumpsMP\u001b[0m\u001b[1;33m=\u001b[0m\u001b[0mphase\u001b[0m\u001b[1;33m[\u001b[0m\u001b[0mjumpsMP\u001b[0m\u001b[1;33m]\u001b[0m\u001b[1;33m\u001b[0m\u001b[0m\n\u001b[0;32m     10\u001b[0m         \u001b[0mplt\u001b[0m\u001b[1;33m.\u001b[0m\u001b[0mscatter\u001b[0m\u001b[1;33m(\u001b[0m\u001b[0mtimejumpsMP\u001b[0m\u001b[1;33m,\u001b[0m\u001b[0mphasejumpsMP\u001b[0m\u001b[1;33m,\u001b[0m\u001b[0mcolor\u001b[0m\u001b[1;33m=\u001b[0m\u001b[1;34m\"red\"\u001b[0m\u001b[1;33m)\u001b[0m \u001b[1;31m#points of MP cycle slip\u001b[0m\u001b[1;33m\u001b[0m\u001b[0m\n",
      "\u001b[1;31mIndexError\u001b[0m: arrays used as indices must be of integer (or boolean) type"
     ]
    },
    {
     "data": {
      "image/png": "[encoded data removed]",
      "text/plain": [
       "<matplotlib.figure.Figure at 0x7ffa08a1e510>"
      ]
     },
     "metadata": {},
     "output_type": "display_data"
    }
   ],
   "source": [
    "plot_slip(jumps1,Phase1,time1,jumpsMP=Mp1)"
   ]
  },
  {
   "cell_type": "code",
   "execution_count": null,
   "metadata": {
    "collapsed": true
   },
   "outputs": [],
   "source": []
  },
  {
   "cell_type": "code",
   "execution_count": null,
   "metadata": {
    "collapsed": true
   },
   "outputs": [],
   "source": []
  }
 ],
 "metadata": {
  "kernelspec": {
   "display_name": "Python 2",
   "language": "python",
   "name": "python2"
  },
  "language_info": {
   "codemirror_mode": {
    "name": "ipython",
    "version": 2
   },
   "file_extension": ".py",
   "mimetype": "text/x-python",
   "name": "python",
   "nbconvert_exporter": "python",
   "pygments_lexer": "ipython2",
   "version": "2.7.10"
  }
 },
 "nbformat": 4,
 "nbformat_minor": 0
}
